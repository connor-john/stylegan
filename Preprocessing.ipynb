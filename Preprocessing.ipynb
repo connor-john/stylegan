{
 "cells": [
  {
   "cell_type": "code",
   "execution_count": null,
   "metadata": {},
   "outputs": [],
   "source": [
    "import zipfile\n",
    "\n",
    "with zipfile.ZipFile(\"/notebooks/fvector.zip\",\"r\") as zip_ref:\n",
    "  zip_ref.extractall(\"/notebooks/storage/datasets/\")"
   ]
  },
  {
   "cell_type": "code",
   "execution_count": null,
   "metadata": {},
   "outputs": [],
   "source": [
    "import os\n",
    "root = '/notebooks/storage/datasets/fvector/'\n",
    "img_list = os.listdir(root)\n",
    "print(len(img_list))"
   ]
  },
  {
   "cell_type": "code",
   "execution_count": null,
   "metadata": {},
   "outputs": [],
   "source": [
    "import Augmentor\n",
    "\n",
    "p = Augmentor.Pipeline(\"/notebooks/storage/datasets/fvector\", \"/notebooks/storage/train/fvector512\", save_format=\"JPEG\")"
   ]
  },
  {
   "cell_type": "code",
   "execution_count": null,
   "metadata": {},
   "outputs": [],
   "source": [
    "p.resize(probability=1.0, width=512, height=512)"
   ]
  },
  {
   "cell_type": "code",
   "execution_count": null,
   "metadata": {},
   "outputs": [],
   "source": [
    "p.process()"
   ]
  },
  {
   "cell_type": "code",
   "execution_count": null,
   "metadata": {},
   "outputs": [],
   "source": [
    "%%bash\n",
    "i=0\n",
    "for f in /notebooks/storage/train/fvector512/*\n",
    "do\n",
    "    i=$(( i + 1 ))\n",
    "    echo index $i\n",
    "    file $f\n",
    "done"
   ]
  },
  {
   "cell_type": "code",
   "execution_count": null,
   "metadata": {},
   "outputs": [],
   "source": [
    "!rm -R /notebooks/storage/train/fvector512/fvector_original_73163ee55662e9128652dd2c3ab0b838_0.jpg_31b9042e-e3dd-49a1-bec8-4550078d261c.JPEG\n",
    "!rm -R /notebooks/storage/train/fvector512/fvector_original_73163ee55662e9128652dd2c3ab0b838_1.jpg_4be7089e-f884-4bc9-ac90-b2b4e43b2cf5.JPEG\n",
    "!rm -R /notebooks/storage/train/fvector512/fvector_original_73163ee55662e9128652dd2c3ab0b838_2.jpg_271ee9b7-f0fa-4ac6-a71c-e62072d2e8c9.JPEG\n",
    "!rm -R /notebooks/storage/train/fvector512/fvector_original_landscape-vector-art-13_0.jpg_d6fabca4-2f1f-48aa-b6fc-95c6a2b22b97.JPEG"
   ]
  },
  {
   "cell_type": "code",
   "execution_count": null,
   "metadata": {},
   "outputs": [],
   "source": [
    "!rm -R /notebooks/storage/datasets/fvector/spring-landscapekk_0.jpg\n",
    "!rm -R /notebooks/storage/datasets/fvector/spring-landscapekk_1.jpg\n",
    "!rm -R /notebooks/storage/datasets/fvector/spring-landscapekk_2.jpg\n",
    "!rm -R /notebooks/storage/datasets/fvector/spring-landscapekk_3.jpg\n",
    "!rm -R /notebooks/storage/datasets/fvector/spring-landscapekk_4.jpg\n",
    "!rm -R /notebooks/storage/datasets/fvector/spring-landscapekk_5.jpg"
   ]
  },
  {
   "cell_type": "code",
   "execution_count": null,
   "metadata": {},
   "outputs": [],
   "source": [
    "from PIL import Image\n",
    "import os\n",
    "\n",
    "i = 0\n",
    "for f in data:\n",
    "    try:\n",
    "        img = Image.open(f)\n",
    "        i += 1\n",
    "    except:\n",
    "        os.remove(f)\n",
    "        print(f'could not open {f}')\n",
    "\n",
    "print(f'{i} successful')\n",
    "        "
   ]
  },
  {
   "cell_type": "code",
   "execution_count": null,
   "metadata": {},
   "outputs": [],
   "source": [
    "from PIL import Image\n",
    "import os\n",
    "\n",
    "for f in data:\n",
    "    img = Image.open(f)\n",
    "    if img.mode == 'RGBA':\n",
    "        rgb_image = img.convert('RGB')\n",
    "        print(f'removing: {f}')\n",
    "        os.remove(f)"
   ]
  },
  {
   "cell_type": "markdown",
   "metadata": {},
   "source": [
    "## Convert to TF"
   ]
  },
  {
   "cell_type": "code",
   "execution_count": null,
   "metadata": {},
   "outputs": [],
   "source": [
    "!python dataset_tool.py create_from_images /notebooks/storage/train/fvectortf/ /notebooks/storage/train/fvector512/"
   ]
  },
  {
   "cell_type": "code",
   "execution_count": null,
   "metadata": {},
   "outputs": [],
   "source": [
    "%cd /notebooks/stylegan/models/"
   ]
  },
  {
   "cell_type": "code",
   "execution_count": null,
   "metadata": {},
   "outputs": [],
   "source": [
    "!gdown --id 1MzTY44rLToO5APn8TZmfR7_ENSe5aZUn"
   ]
  },
  {
   "cell_type": "code",
   "execution_count": null,
   "metadata": {},
   "outputs": [],
   "source": [
    "%cd /notebooks/stylegan/pretrained_models"
   ]
  },
  {
   "cell_type": "code",
   "execution_count": null,
   "metadata": {},
   "outputs": [],
   "source": [
    "!gdown --id 1oE5k4X4rJaF7d9EHzeJRMqwrlVvpSj8m"
   ]
  },
  {
   "cell_type": "code",
   "execution_count": null,
   "metadata": {},
   "outputs": [],
   "source": [
    "%cd /notebooks/stylegan"
   ]
  },
  {
   "cell_type": "code",
   "execution_count": null,
   "metadata": {},
   "outputs": [],
   "source": [
    "!nohup python train.py"
   ]
  }
 ],
 "metadata": {
  "kernelspec": {
   "display_name": "Python 3",
   "language": "python",
   "name": "python3"
  },
  "language_info": {
   "codemirror_mode": {
    "name": "ipython",
    "version": 3
   },
   "file_extension": ".py",
   "mimetype": "text/x-python",
   "name": "python",
   "nbconvert_exporter": "python",
   "pygments_lexer": "ipython3",
   "version": "3.7.9"
  }
 },
 "nbformat": 4,
 "nbformat_minor": 4
}
